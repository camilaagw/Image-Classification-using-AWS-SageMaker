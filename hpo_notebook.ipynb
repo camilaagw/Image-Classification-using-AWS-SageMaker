{
 "cells": [
  {
   "attachments": {},
   "cell_type": "markdown",
   "id": "9969be69",
   "metadata": {},
   "source": [
    "# Notebook to debug Hyper Parameter Optimization"
   ]
  },
  {
   "cell_type": "code",
   "execution_count": null,
   "id": "fifth-mayor",
   "metadata": {},
   "outputs": [],
   "source": [
    "import numpy as np\n",
    "import torch\n",
    "import torch.nn as nn\n",
    "import torch.optim as optim\n",
    "import torchvision\n",
    "import torchvision.models as models\n",
    "import torchvision.transforms as transforms\n",
    "\n",
    "import argparse"
   ]
  },
  {
   "cell_type": "code",
   "execution_count": null,
   "id": "august-amateur",
   "metadata": {},
   "outputs": [],
   "source": [
    "train_suffix ='train'\n",
    "val_suffix = 'val'\n",
    "MAX_SAMPLES_PROPORTION = 0.01\n",
    "\n",
    "def log_metrics(loss, running_corrects, running_samples, total_samples):\n",
    "    accuracy = running_corrects / running_samples\n",
    "    print(\"Images [{}/{} ({:.0f}%)] Loss: {:.2f} Accuracy: {}/{} ({:.2f}%)\".format(\n",
    "        running_samples,\n",
    "        total_samples,\n",
    "        100.0 * (running_samples / total_samples),\n",
    "        loss.item(),\n",
    "        running_corrects,\n",
    "        running_samples,\n",
    "        100.0 * accuracy,\n",
    "        )\n",
    "    )\n",
    "    \n",
    "def test(model, test_loader, criterion):\n",
    "    print(\"Testing Model on Whole Testing Dataset\")\n",
    "    model.eval()\n",
    "    running_loss = 0\n",
    "    running_corrects = 0\n",
    "    running_samples = 0\n",
    "    total_samples = len(test_loader.dataset)\n",
    "\n",
    "    for inputs, labels in test_loader:\n",
    "        outputs = model(inputs)\n",
    "        loss = criterion(outputs, labels)\n",
    "        _, preds = torch.max(outputs, 1)\n",
    "        running_loss += loss.item() * inputs.size(0)\n",
    "        running_corrects += torch.sum(preds == labels.data).item()\n",
    "        running_samples += len(inputs)\n",
    "        \n",
    "        #NOTE: Comment lines below to train and test on whole dataset\n",
    "        if running_samples > (MAX_SAMPLES_PROPORTION * total_samples):\n",
    "            break\n",
    "\n",
    "    total_loss = running_loss / len(test_loader.dataset)\n",
    "    total_acc = running_corrects / len(test_loader.dataset)\n",
    "    print(f\"Testing Accuracy: {100*total_acc}, Testing Loss: {total_loss}\")\n",
    "\n",
    "\n",
    "def validate(model, validation_loader, criterion):\n",
    "    model.eval()\n",
    "    running_loss = 0\n",
    "    running_corrects = 0\n",
    "    running_samples = 0\n",
    "    total_samples = len(validation_loader.dataset)\n",
    "\n",
    "    for inputs, labels in validation_loader:\n",
    "        outputs = model(inputs)\n",
    "        loss = criterion(outputs, labels)\n",
    "\n",
    "        _, preds = torch.max(outputs, 1)\n",
    "        running_loss += loss.item() * inputs.size(0)\n",
    "        running_corrects += torch.sum(preds == labels.data).item()\n",
    "        running_samples += len(inputs)\n",
    "        if running_samples % 2000 == 0:\n",
    "            log_metrics(loss, running_corrects, running_samples, total_samples)\n",
    "            \n",
    "        #NOTE: Comment lines below to train and test on whole dataset\n",
    "        if running_samples > (MAX_SAMPLES_PROPORTION * total_samples):\n",
    "            break\n",
    "\n",
    "    epoch_loss = running_loss / running_samples\n",
    "    epoch_acc = running_corrects / running_samples\n",
    "    print(f\"Phase validation, Epoc loss {epoch_loss}, Epoc accuracy {epoch_acc}\")\n",
    "    return epoch_loss\n",
    "\n",
    "\n",
    "def train(model, train_loader, criterion, optimizer):\n",
    "    model.train()\n",
    "\n",
    "    running_loss = 0.0\n",
    "    running_corrects = 0\n",
    "    running_samples = 0\n",
    "    total_samples = len(train_loader.dataset)\n",
    "\n",
    "    for inputs, labels in train_loader:\n",
    "        outputs = model(inputs)\n",
    "        loss = criterion(outputs, labels)\n",
    "\n",
    "        optimizer.zero_grad()\n",
    "        loss.backward()\n",
    "        optimizer.step()\n",
    "\n",
    "        _, preds = torch.max(outputs, 1)\n",
    "        running_loss += loss.item() * inputs.size(0)\n",
    "        running_corrects += torch.sum(preds == labels.data).item()\n",
    "        running_samples += len(inputs)\n",
    "        if running_samples % 2000 == 0:\n",
    "            log_metrics(loss, running_corrects, running_samples, total_samples)\n",
    "\n",
    "        #NOTE: Comment lines below to train and test on whole dataset\n",
    "        if running_samples > (MAX_SAMPLES_PROPORTION * total_samples ):\n",
    "            break\n",
    "\n",
    "    epoch_loss = running_loss / running_samples\n",
    "    epoch_acc = running_corrects / running_samples\n",
    "    print(f\"Phase training, Epoc loss {epoch_loss}, Epoc accuracy {epoch_acc}\")\n",
    "    return epoch_loss\n",
    "\n",
    "def train_with_early_stopping(model, datasets_loader, epochs, loss_criterion, optimizer):\n",
    "    for epoch in range(1, epochs + 1):\n",
    "        best_loss = 1e6\n",
    "        print(f\"Epoch {epoch}\")\n",
    "        _ = train(model, datasets_loader[train_suffix], loss_criterion, optimizer, epoch)\n",
    "        validate_epoch_loss = validate(model, datasets_loader[val_suffix], loss_criterion, epoch)\n",
    "        if validate_epoch_loss < best_loss:\n",
    "            break"
   ]
  },
  {
   "cell_type": "code",
   "execution_count": null,
   "id": "homeless-buffer",
   "metadata": {},
   "outputs": [],
   "source": [
    "def net(num_classes: int):\n",
    "    '''Initializes a pretrained model'''\n",
    "    model = models.resnet50(pretrained=True)\n",
    "\n",
    "    # Freeze training of the convolutional layers\n",
    "    for param in model.parameters():\n",
    "        param.requires_grad = False   \n",
    "\n",
    "    # Override the last layer to adjust it to our problem\n",
    "    num_features=model.fc.in_features\n",
    "    model.fc = nn.Sequential(nn.Linear(num_features, num_classes))\n",
    "    \n",
    "    return model\n",
    "\n",
    "def create_data_loaders(train_data_dir: str, valid_data_dir: str, batch_size: int):\n",
    "    '''Create pytorch data loaders'''\n",
    "     \n",
    "    data_dir = { train_suffix: train_data_dir, val_suffix: valid_data_dir}\n",
    "    \n",
    "    data_transforms = {\n",
    "        train_suffix: transforms.Compose([\n",
    "            transforms.RandomResizedCrop(224),\n",
    "            transforms.RandomHorizontalFlip(),\n",
    "            transforms.ToTensor(),\n",
    "            transforms.Normalize([0.485, 0.456, 0.406], [0.229, 0.224, 0.225])\n",
    "        ]),\n",
    "        val_suffix: transforms.Compose([\n",
    "            transforms.Resize(256),\n",
    "            transforms.CenterCrop(224),\n",
    "            transforms.ToTensor(),\n",
    "            transforms.Normalize([0.485, 0.456, 0.406], [0.229, 0.224, 0.225])\n",
    "        ]),\n",
    "    }\n",
    "   \n",
    "    image_datasets = {}\n",
    "    dataloaders = {}\n",
    "    for x in [train_suffix, val_suffix]:\n",
    "        \n",
    "        image_datasets[x] = datasets.ImageFolder(data_dir[x], data_transforms[x])\n",
    "        dataloaders[x] = torch.utils.data.DataLoader(\n",
    "            image_datasets[x], batch_size=batch_size, shuffle=True, num_workers=4)\n",
    "        \n",
    "    return dataloaders\n",
    "\n",
    "def get_num_classes(dataloader) -> int:\n",
    "        return len(dataloader[train_suffix].dataset.classes)"
   ]
  },
  {
   "cell_type": "code",
   "execution_count": null,
   "id": "quantitative-reservation",
   "metadata": {},
   "outputs": [],
   "source": [
    "def main(args):\n",
    "\n",
    "    dataset_loaders = create_data_loaders(ags.data_dir, ags.batch_size, 'train', 'validation')\n",
    "    num_classes = get_num_classes(dataset_loaders)\n",
    "    \n",
    "    model=net(num_classes)\n",
    "    \n",
    "    loss_criterion = nn.CrossEntropyLoss()\n",
    "    optimizer =  optim.Adam(model.fc.parameters(), lr=args.lr)\n",
    "\n",
    "    train_with_early_stopping(model, dataset_loaders, args.epochs, loss_criterion, optimizer)\n",
    "\n",
    "    torch.save(model.state_dict(), PATH) #TODO  torch.save(model.state_dict(), \"mnist_cnn.pt\")\n",
    "    \n",
    "# def model_fn(model_dir):\n",
    "#     model = Net()\n",
    "#     with open(os.path.join(model_dir, \"model.pth\"), \"rb\") as f:\n",
    "#         model.load_state_dict(torch.load(f))\n",
    "#     return model\n",
    "\n",
    "\n",
    "# def save_model(model, model_dir):\n",
    "#     logger.info(\"Saving the model.\")\n",
    "#     path = os.path.join(model_dir, \"model.pth\")\n",
    "#     torch.save(model.cpu().state_dict(), path)"
   ]
  },
  {
   "cell_type": "code",
   "execution_count": null,
   "id": "false-jenny",
   "metadata": {},
   "outputs": [],
   "source": [
    "if __name__=='__main__':\n",
    "    parser=argparse.ArgumentParser(description=\"Training Job for Hyperparameter tuning\")\n",
    "    \n",
    "    parser.add_argument(\n",
    "        \"--batch-size\",\n",
    "        type=int,\n",
    "        default=64,\n",
    "        metavar=\"N\",\n",
    "        help=\"input batch size for training (default: 64)\",\n",
    "    )\n",
    "\n",
    "    parser.add_argument(\n",
    "        \"--epochs\",\n",
    "        type=int,\n",
    "        default=2,\n",
    "        metavar=\"N\",\n",
    "        help=\"number of epochs to train (default: 14)\",\n",
    "    )\n",
    "    parser.add_argument(\n",
    "        \"--lr\", type=float, default=1.0, metavar=\"LR\", help=\"learning rate (default: 1.0)\"\n",
    "    )\n",
    "\n",
    "    \n",
    "    # Container environment\n",
    "#     parser.add_argument(\"--hosts\", type=list, default=json.loads(os.environ[\"SM_HOSTS\"]))\n",
    "#     parser.add_argument(\"--current-host\", type=str, default=os.environ[\"SM_CURRENT_HOST\"])\n",
    "#     parser.add_argument(\"--model-dir\", type=str, default=os.environ[\"SM_MODEL_DIR\"])\n",
    "    parser.add_argument(\"--data-dir\", type=str, default=os.environ[\"SM_CHANNEL_TRAINING\"])\n",
    "#     parser.add_argument(\"--num-gpus\", type=int, default=os.environ[\"SM_NUM_GPUS\"])\n",
    "    \n",
    "    args = parser.parse_args()\n",
    "    \n",
    "    main(args)"
   ]
  },
  {
   "cell_type": "markdown",
   "id": "excellent-compound",
   "metadata": {},
   "source": [
    "## TEST"
   ]
  },
  {
   "cell_type": "markdown",
   "id": "quantitative-civilization",
   "metadata": {},
   "source": [
    "### Arguments"
   ]
  },
  {
   "cell_type": "code",
   "execution_count": null,
   "id": "divine-infrared",
   "metadata": {},
   "outputs": [],
   "source": [
    "import sys\n",
    "import os\n",
    "\n",
    "sys.argv = [\"hpo.py\", \"--batch-size\", \"32\", \"--learning-rate\", \"0.001\"]\n",
    "\n",
    "os.environ['SM_CHANNEL_TRAINING'] = \"./dogImages/train\"\n",
    "os.environ['SM_CHANNEL_VALID'] = \"./dogImages/valid\"\n",
    "os.environ['SM_CHANNEL_TEST'] = \"./dogImages/test\"\n",
    "os.environ['SM_CHANNEL_DIR'] = \"/opt/ml/model\"\n",
    "\n",
    "! sudo mkdir /opt/ml/model\n",
    "! sudo chown -R ec2-user:ec2-user /opt/ml/model # give ownership to the current EC2 user"
   ]
  },
  {
   "cell_type": "markdown",
   "id": "metric-inspection",
   "metadata": {},
   "source": [
    "### Data loaders"
   ]
  },
  {
   "cell_type": "code",
   "execution_count": null,
   "id": "southeast-experiment",
   "metadata": {},
   "outputs": [],
   "source": [
    "%matplotlib inline\n",
    "\n",
    "import matplotlib.pyplot as plt\n",
    "\n",
    "data_loader, _ = create_data_loaders(\"./dogImages/test\", 30)"
   ]
  },
  {
   "cell_type": "code",
   "execution_count": null,
   "id": "hundred-breath",
   "metadata": {},
   "outputs": [],
   "source": [
    "# Can we do this in a different way?\n",
    "for batch in data_loader:\n",
    "    break"
   ]
  },
  {
   "cell_type": "code",
   "execution_count": null,
   "id": "entertaining-lottery",
   "metadata": {},
   "outputs": [],
   "source": [
    "batch[0].shape, batch[1].shape"
   ]
  },
  {
   "cell_type": "code",
   "execution_count": null,
   "id": "objective-temple",
   "metadata": {},
   "outputs": [],
   "source": [
    "batch[0][0].shape, batch[0][0].permute(1, 2, 0).shape"
   ]
  },
  {
   "cell_type": "code",
   "execution_count": null,
   "id": "suburban-sense",
   "metadata": {},
   "outputs": [],
   "source": [
    "image = batch[0][0].permute(1, 2, 0)\n",
    "breed = batch[1][0]\n",
    "\n",
    "plt.imshow(image);"
   ]
  },
  {
   "cell_type": "code",
   "execution_count": null,
   "id": "double-counter",
   "metadata": {},
   "outputs": [],
   "source": [
    "!ls './dogImages/test/{breed + 1}*'"
   ]
  },
  {
   "cell_type": "markdown",
   "id": "special-boost",
   "metadata": {},
   "source": [
    "### Model "
   ]
  },
  {
   "cell_type": "code",
   "execution_count": null,
   "id": "transsexual-threshold",
   "metadata": {},
   "outputs": [],
   "source": [
    "model = net(42) #If it complains check the weights part on the webpage\n",
    "type(model)"
   ]
  },
  {
   "cell_type": "code",
   "execution_count": null,
   "id": "american-facility",
   "metadata": {},
   "outputs": [],
   "source": [
    "model"
   ]
  },
  {
   "cell_type": "code",
   "execution_count": null,
   "id": "balanced-headquarters",
   "metadata": {},
   "outputs": [],
   "source": []
  }
 ],
 "metadata": {
  "kernelspec": {
   "display_name": "Python 3",
   "language": "python",
   "name": "python3"
  },
  "language_info": {
   "codemirror_mode": {
    "name": "ipython",
    "version": 3
   },
   "file_extension": ".py",
   "mimetype": "text/x-python",
   "name": "python",
   "nbconvert_exporter": "python",
   "pygments_lexer": "ipython3",
   "version": "3.8.3"
  }
 },
 "nbformat": 4,
 "nbformat_minor": 5
}
